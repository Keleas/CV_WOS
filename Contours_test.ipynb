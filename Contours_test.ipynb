{
 "cells": [
  {
   "cell_type": "code",
   "execution_count": 11,
   "metadata": {},
   "outputs": [],
   "source": [
    "import numpy as np\n",
    "import cv2\n",
    "import matplotlib.pyplot as plt"
   ]
  },
  {
   "cell_type": "code",
   "execution_count": 44,
   "metadata": {},
   "outputs": [],
   "source": [
    "frame = cv2.imread('test.jpg')\n",
    "frame = cv2.resize(frame, (724, 724))\n",
    "#gray = cv2.cvtColor(frame.copy(), cv2.COLOR_BGR2GRAY)\n",
    "#gray = cv2.bilateralFilter(gray, 11, 17, 17)\n",
    "#edged = cv2.Canny(gray, 30, 200)"
   ]
  },
  {
   "cell_type": "code",
   "execution_count": 45,
   "metadata": {},
   "outputs": [
    {
     "data": {
      "text/plain": [
       "(724, 724, 3)"
      ]
     },
     "execution_count": 45,
     "metadata": {},
     "output_type": "execute_result"
    }
   ],
   "source": [
    "frame.shape"
   ]
  },
  {
   "cell_type": "code",
   "execution_count": 46,
   "metadata": {},
   "outputs": [
    {
     "ename": "error",
     "evalue": "OpenCV(3.4.2) C:\\Miniconda3\\conda-bld\\opencv-suite_1534379934306\\work\\modules\\imgproc\\src\\contours.cpp:199: error: (-210:Unsupported format or combination of formats) [Start]FindContours supports only CV_8UC1 images when mode != CV_RETR_FLOODFILL otherwise supports CV_32SC1 images only in function 'cvStartFindContours_Impl'\n",
     "output_type": "error",
     "traceback": [
      "\u001b[1;31m---------------------------------------------------------------------------\u001b[0m",
      "\u001b[1;31merror\u001b[0m                                     Traceback (most recent call last)",
      "\u001b[1;32m<ipython-input-46-711fe639aa21>\u001b[0m in \u001b[0;36m<module>\u001b[1;34m\u001b[0m\n\u001b[1;32m----> 1\u001b[1;33m \u001b[0mcontours\u001b[0m \u001b[1;33m=\u001b[0m \u001b[0mcv2\u001b[0m\u001b[1;33m.\u001b[0m\u001b[0mfindContours\u001b[0m\u001b[1;33m(\u001b[0m\u001b[0mframe\u001b[0m\u001b[1;33m.\u001b[0m\u001b[0mcopy\u001b[0m\u001b[1;33m(\u001b[0m\u001b[1;33m)\u001b[0m\u001b[1;33m,\u001b[0m \u001b[0mcv2\u001b[0m\u001b[1;33m.\u001b[0m\u001b[0mRETR_TREE\u001b[0m\u001b[1;33m,\u001b[0m \u001b[0mcv2\u001b[0m\u001b[1;33m.\u001b[0m\u001b[0mCHAIN_APPROX_SIMPLE\u001b[0m\u001b[1;33m)\u001b[0m \u001b[1;31m# Your call to find the contours\u001b[0m\u001b[1;33m\u001b[0m\u001b[1;33m\u001b[0m\u001b[0m\n\u001b[0m\u001b[0;32m      2\u001b[0m \u001b[0midx\u001b[0m \u001b[1;33m=\u001b[0m \u001b[0mcontours\u001b[0m\u001b[1;33m[\u001b[0m\u001b[1;36m0\u001b[0m\u001b[1;33m]\u001b[0m \u001b[1;31m# The index of the contour that surrounds your object\u001b[0m\u001b[1;33m\u001b[0m\u001b[1;33m\u001b[0m\u001b[0m\n\u001b[0;32m      3\u001b[0m \u001b[0mmask\u001b[0m \u001b[1;33m=\u001b[0m \u001b[0mnp\u001b[0m\u001b[1;33m.\u001b[0m\u001b[0mzeros_like\u001b[0m\u001b[1;33m(\u001b[0m\u001b[0mframe\u001b[0m\u001b[1;33m)\u001b[0m \u001b[1;31m# Create mask where white is what we want, black otherwise\u001b[0m\u001b[1;33m\u001b[0m\u001b[1;33m\u001b[0m\u001b[0m\n",
      "\u001b[1;31merror\u001b[0m: OpenCV(3.4.2) C:\\Miniconda3\\conda-bld\\opencv-suite_1534379934306\\work\\modules\\imgproc\\src\\contours.cpp:199: error: (-210:Unsupported format or combination of formats) [Start]FindContours supports only CV_8UC1 images when mode != CV_RETR_FLOODFILL otherwise supports CV_32SC1 images only in function 'cvStartFindContours_Impl'\n"
     ]
    }
   ],
   "source": [
    "contours = cv2.findContours(frame.copy(), cv2.RETR_TREE, cv2.CHAIN_APPROX_SIMPLE) # Your call to find the contours\n",
    "idx = contours[0] # The index of the contour that surrounds your object\n",
    "mask = np.zeros_like(frame) # Create mask where white is what we want, black otherwise\n"
   ]
  },
  {
   "cell_type": "code",
   "execution_count": 47,
   "metadata": {},
   "outputs": [
    {
     "data": {
      "text/plain": [
       "(array([[187, 186, 188, ..., 203, 202, 205],\n",
       "        [186, 185, 186, ..., 206, 205, 205],\n",
       "        [187, 185, 189, ..., 202, 204, 201],\n",
       "        ...,\n",
       "        [108, 108, 108, ...,  73,  78,  85],\n",
       "        [ 92,  89,  88, ...,  80,  82,  83],\n",
       "        [ 83,  80,  75, ...,  91,  93,  88]], dtype=uint8),\n",
       " [array([[[  0,   0]],\n",
       "  \n",
       "         [[  0, 723]],\n",
       "  \n",
       "         [[723, 723]],\n",
       "  \n",
       "         [[723,   0]]], dtype=int32), array([[[296, 714]],\n",
       "  \n",
       "         [[297, 713]],\n",
       "  \n",
       "         [[298, 714]],\n",
       "  \n",
       "         [[297, 715]]], dtype=int32), array([[[466, 710]],\n",
       "  \n",
       "         [[467, 709]],\n",
       "  \n",
       "         [[468, 710]],\n",
       "  \n",
       "         [[467, 711]]], dtype=int32), array([[[351, 666]],\n",
       "  \n",
       "         [[352, 665]],\n",
       "  \n",
       "         [[353, 666]],\n",
       "  \n",
       "         [[352, 667]]], dtype=int32), array([[[342, 665]],\n",
       "  \n",
       "         [[343, 664]],\n",
       "  \n",
       "         [[344, 665]],\n",
       "  \n",
       "         [[343, 666]]], dtype=int32), array([[[365, 580]],\n",
       "  \n",
       "         [[366, 579]],\n",
       "  \n",
       "         [[367, 580]],\n",
       "  \n",
       "         [[366, 581]]], dtype=int32), array([[[364, 577]],\n",
       "  \n",
       "         [[365, 576]],\n",
       "  \n",
       "         [[366, 577]],\n",
       "  \n",
       "         [[365, 578]]], dtype=int32), array([[[144, 574]],\n",
       "  \n",
       "         [[145, 573]],\n",
       "  \n",
       "         [[146, 574]],\n",
       "  \n",
       "         [[145, 575]]], dtype=int32), array([[[356, 562]],\n",
       "  \n",
       "         [[357, 561]],\n",
       "  \n",
       "         [[358, 562]],\n",
       "  \n",
       "         [[357, 563]]], dtype=int32)],\n",
       " array([[[-1, -1,  1, -1],\n",
       "         [ 2, -1, -1,  0],\n",
       "         [ 3,  1, -1,  0],\n",
       "         [ 4,  2, -1,  0],\n",
       "         [ 5,  3, -1,  0],\n",
       "         [ 6,  4, -1,  0],\n",
       "         [ 7,  5, -1,  0],\n",
       "         [ 8,  6, -1,  0],\n",
       "         [-1,  7, -1,  0]]], dtype=int32))"
      ]
     },
     "execution_count": 47,
     "metadata": {},
     "output_type": "execute_result"
    }
   ],
   "source": []
  },
  {
   "cell_type": "code",
   "execution_count": null,
   "metadata": {},
   "outputs": [],
   "source": []
  },
  {
   "cell_type": "code",
   "execution_count": null,
   "metadata": {},
   "outputs": [],
   "source": [
    "cv2.drawContours(mask, contours, idx, 255, -1) # Draw filled contour in mask\n",
    "out = np.zeros_like(frame) # Extract out the object and place into output image\n",
    "out[mask == 255] = frame[mask == 255]"
   ]
  },
  {
   "cell_type": "code",
   "execution_count": null,
   "metadata": {},
   "outputs": [],
   "source": [
    "# Show the output image\n",
    "cv2.imshow('Output', out)\n",
    "cv2.waitKey(0)\n",
    "cv2.destroyAllWindows()"
   ]
  }
 ],
 "metadata": {
  "kernelspec": {
   "display_name": "Python 3",
   "language": "python",
   "name": "python3"
  },
  "language_info": {
   "codemirror_mode": {
    "name": "ipython",
    "version": 3
   },
   "file_extension": ".py",
   "mimetype": "text/x-python",
   "name": "python",
   "nbconvert_exporter": "python",
   "pygments_lexer": "ipython3",
   "version": "3.6.7"
  }
 },
 "nbformat": 4,
 "nbformat_minor": 2
}
